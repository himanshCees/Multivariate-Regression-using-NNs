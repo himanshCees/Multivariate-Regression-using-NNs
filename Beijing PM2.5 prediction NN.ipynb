{
 "cells": [
  {
   "cell_type": "code",
   "execution_count": 32,
   "metadata": {},
   "outputs": [],
   "source": [
    "import numpy as np\n",
    "import pandas as pd\n",
    "import tensorflow as tf\n",
    "import tensorflow.keras as k\n",
    "import matplotlib.pyplot as plt\n",
    "from random import shuffle\n",
    "import scipy.interpolate as interp\n",
    "from sklearn.model_selection import KFold\n",
    "from sklearn.model_selection import cross_val_score\n",
    "from sklearn.svm import SVR\n",
    "from sklearn.linear_model import ElasticNet\n",
    "from sklearn.linear_model import Lasso\n",
    "from sklearn.linear_model import Ridge\n",
    "from sklearn.metrics import mean_squared_error\n",
    "from sklearn.model_selection import train_test_split"
   ]
  },
  {
   "cell_type": "code",
   "execution_count": 16,
   "metadata": {},
   "outputs": [],
   "source": [
    "def data2matrix():\n",
    "    df2 = pd.read_csv('https://archive.ics.uci.edu/ml/machine-learning-databases/00381/PRSA_data_2010.1.1-2014.12.31.csv')\n",
    "    df = df2.copy()    \n",
    "    #remove indexing in features \n",
    "    df = df.drop(['No'], axis=1)\n",
    "    df = df.drop(['year'], axis=1)\n",
    "    df = df.drop(['month'], axis = 1)\n",
    "    df = df.drop(['day'], axis=1)\n",
    "    #df = df.drop(['Is'], axis = 1)\n",
    "    #df = df.drop(['Ir'], axis = 1)\n",
    "\n",
    "    for i in range(1,9): \n",
    "\n",
    "        df['pm2.5_%d' %i] = df2['pm2.5'].shift(i)\n",
    "        df['DEWP_%d' %i] = df2['DEWP'].shift(i)\n",
    "        df['TEMP_%d' %i] = df2['TEMP'].shift(i)\n",
    "        df['PRES_%d' %i] = df2['PRES'].shift(i)\n",
    "        df['cbwd_%d' %i] = df2['cbwd'].shift(i)\n",
    "        df['Iws_%d' %i] = df2['Iws'].shift(i)\n",
    "        df['Is_%d' %i] = df2['Is'].shift(i)\n",
    "        df['Ir_%d' %i] = df2['Ir'].shift(i)\n",
    "        \n",
    "    df = df[df.hour ==8] \n",
    "    #shift tomorrow's pm2.5 data into today's row\n",
    "    df['pm2.5_to_predict'] = df['pm2.5'].shift(-1) \n",
    "    df = df.drop(['hour'], axis=1)\n",
    "    #produce an numpy array\n",
    "    df = df.dropna(how='any')\n",
    "    data = np.matrix(df) \n",
    "    N = len(data)\n",
    "    #Wind direction is on column \n",
    "    for i in range (N):\n",
    "            for p in range(data.shape[1]):\n",
    "                if data[i,p] == 'NE':\n",
    "                    data[i,p] = 1\n",
    "                elif data[i,p] == 'SE':\n",
    "                    data[i,p] = 2\n",
    "                elif data[i,p] == 'NW':\n",
    "                    data[i,p] = 4\n",
    "                elif data[i,p] == 'cv':\n",
    "                    data[i,p] = 0\n",
    "                    \n",
    "    data = data.astype(float)\n",
    "    del N, i, df2, p    \n",
    "    return data"
   ]
  },
  {
   "cell_type": "code",
   "execution_count": 17,
   "metadata": {},
   "outputs": [],
   "source": [
    "d=data2matrix()"
   ]
  },
  {
   "cell_type": "code",
   "execution_count": 18,
   "metadata": {},
   "outputs": [
    {
     "data": {
      "text/plain": [
       "(1651, 73)"
      ]
     },
     "execution_count": 18,
     "metadata": {},
     "output_type": "execute_result"
    }
   ],
   "source": [
    "d.shape"
   ]
  },
  {
   "cell_type": "code",
   "execution_count": 19,
   "metadata": {},
   "outputs": [],
   "source": [
    "y = d[:,0]"
   ]
  },
  {
   "cell_type": "code",
   "execution_count": 20,
   "metadata": {},
   "outputs": [
    {
     "data": {
      "text/plain": [
       "(1651, 1)"
      ]
     },
     "execution_count": 20,
     "metadata": {},
     "output_type": "execute_result"
    }
   ],
   "source": [
    "y.shape"
   ]
  },
  {
   "cell_type": "code",
   "execution_count": 22,
   "metadata": {},
   "outputs": [],
   "source": [
    "x=d[:,1:72]"
   ]
  },
  {
   "cell_type": "code",
   "execution_count": 26,
   "metadata": {},
   "outputs": [],
   "source": [
    "X_train, X_test, y_train, y_test = train_test_split(x, y, test_size=0.2, shuffle = True)"
   ]
  },
  {
   "cell_type": "code",
   "execution_count": 28,
   "metadata": {},
   "outputs": [],
   "source": [
    "def norm(x):\n",
    "  return np.linalg.norm(x) \n",
    "normed_train_data = norm(X_train)\n",
    "normed_test_data = norm(X_test)"
   ]
  },
  {
   "cell_type": "code",
   "execution_count": 83,
   "metadata": {},
   "outputs": [],
   "source": [
    "def build_model():\n",
    "  model = k.Sequential([\n",
    "    k.layers.Dense(64, activation='relu', input_shape=(71,)),\n",
    "    k.layers.Dense(64, activation='relu'),\n",
    "    k.layers.Dense(1)\n",
    "  ])\n",
    "\n",
    "  optimizer = tf.keras.optimizers.RMSprop(0.001)\n",
    "\n",
    "  model.compile(loss='mse',\n",
    "                optimizer=optimizer,\n",
    "                metrics=['mae', 'mse','acc'])\n",
    "  return model"
   ]
  },
  {
   "cell_type": "code",
   "execution_count": 54,
   "metadata": {},
   "outputs": [],
   "source": [
    "model = build_model()"
   ]
  },
  {
   "cell_type": "code",
   "execution_count": 55,
   "metadata": {},
   "outputs": [
    {
     "name": "stdout",
     "output_type": "stream",
     "text": [
      "_________________________________________________________________\n",
      "Layer (type)                 Output Shape              Param #   \n",
      "=================================================================\n",
      "dense_12 (Dense)             (None, 64)                4608      \n",
      "_________________________________________________________________\n",
      "dense_13 (Dense)             (None, 64)                4160      \n",
      "_________________________________________________________________\n",
      "dense_14 (Dense)             (None, 1)                 65        \n",
      "=================================================================\n",
      "Total params: 8,833\n",
      "Trainable params: 8,833\n",
      "Non-trainable params: 0\n",
      "_________________________________________________________________\n"
     ]
    }
   ],
   "source": [
    "model.summary()"
   ]
  },
  {
   "cell_type": "code",
   "execution_count": 56,
   "metadata": {},
   "outputs": [
    {
     "data": {
      "text/plain": [
       "array([[304.9616 ],\n",
       "       [313.4895 ],\n",
       "       [316.78464],\n",
       "       [315.84726],\n",
       "       [319.81445],\n",
       "       [314.66272],\n",
       "       [309.09827],\n",
       "       [307.65024],\n",
       "       [289.11243],\n",
       "       [319.01566]], dtype=float32)"
      ]
     },
     "execution_count": 56,
     "metadata": {},
     "output_type": "execute_result"
    }
   ],
   "source": [
    "example_batch = X_train[:10]\n",
    "example_result = model.predict(example_batch)\n",
    "example_result"
   ]
  },
  {
   "cell_type": "code",
   "execution_count": 58,
   "metadata": {},
   "outputs": [
    {
     "name": "stdout",
     "output_type": "stream",
     "text": [
      "WARNING:tensorflow:From c:\\users\\himan\\anaconda3\\envs\\tensorflow_env\\lib\\site-packages\\tensorflow\\python\\ops\\math_ops.py:3066: to_int32 (from tensorflow.python.ops.math_ops) is deprecated and will be removed in a future version.\n",
      "Instructions for updating:\n",
      "Use tf.cast instead.\n",
      "\n",
      "....................................................................................................\n",
      "....................................................................................................\n",
      "....................................................................................................\n",
      "....................................................................................................\n",
      "....................................................................................................\n",
      "....................................................................................................\n",
      "....................................................................................................\n",
      "....................................................................................................\n",
      "....................................................................................................\n",
      "...................................................................................................."
     ]
    }
   ],
   "source": [
    "class PrintDot(k.callbacks.Callback):\n",
    "  def on_epoch_end(self, epoch, logs):\n",
    "    if epoch % 100 == 0: print('')\n",
    "    print('.', end='')\n",
    "\n",
    "EPOCHS = 1000\n",
    "\n",
    "history = model.fit(\n",
    "  X_train, y_train,epochs=EPOCHS, validation_split = 0.2, verbose=0,\n",
    "  callbacks=[PrintDot()])"
   ]
  },
  {
   "cell_type": "code",
   "execution_count": 71,
   "metadata": {},
   "outputs": [
    {
     "data": {
      "text/html": [
       "<div>\n",
       "<style scoped>\n",
       "    .dataframe tbody tr th:only-of-type {\n",
       "        vertical-align: middle;\n",
       "    }\n",
       "\n",
       "    .dataframe tbody tr th {\n",
       "        vertical-align: top;\n",
       "    }\n",
       "\n",
       "    .dataframe thead th {\n",
       "        text-align: right;\n",
       "    }\n",
       "</style>\n",
       "<table border=\"1\" class=\"dataframe\">\n",
       "  <thead>\n",
       "    <tr style=\"text-align: right;\">\n",
       "      <th></th>\n",
       "      <th>loss</th>\n",
       "      <th>mean_absolute_error</th>\n",
       "      <th>mean_squared_error</th>\n",
       "      <th>val_loss</th>\n",
       "      <th>val_mean_absolute_error</th>\n",
       "      <th>val_mean_squared_error</th>\n",
       "      <th>epoch</th>\n",
       "    </tr>\n",
       "  </thead>\n",
       "  <tbody>\n",
       "    <tr>\n",
       "      <th>995</th>\n",
       "      <td>142.851208</td>\n",
       "      <td>8.276126</td>\n",
       "      <td>142.851212</td>\n",
       "      <td>535.026390</td>\n",
       "      <td>17.330921</td>\n",
       "      <td>535.026428</td>\n",
       "      <td>995</td>\n",
       "    </tr>\n",
       "    <tr>\n",
       "      <th>996</th>\n",
       "      <td>137.370528</td>\n",
       "      <td>8.263455</td>\n",
       "      <td>137.370529</td>\n",
       "      <td>355.322103</td>\n",
       "      <td>13.477231</td>\n",
       "      <td>355.322083</td>\n",
       "      <td>996</td>\n",
       "    </tr>\n",
       "    <tr>\n",
       "      <th>997</th>\n",
       "      <td>138.543515</td>\n",
       "      <td>8.231608</td>\n",
       "      <td>138.543518</td>\n",
       "      <td>360.606447</td>\n",
       "      <td>13.215087</td>\n",
       "      <td>360.606445</td>\n",
       "      <td>997</td>\n",
       "    </tr>\n",
       "    <tr>\n",
       "      <th>998</th>\n",
       "      <td>139.845135</td>\n",
       "      <td>8.373123</td>\n",
       "      <td>139.845139</td>\n",
       "      <td>348.109771</td>\n",
       "      <td>13.451520</td>\n",
       "      <td>348.109802</td>\n",
       "      <td>998</td>\n",
       "    </tr>\n",
       "    <tr>\n",
       "      <th>999</th>\n",
       "      <td>143.892349</td>\n",
       "      <td>8.501762</td>\n",
       "      <td>143.892349</td>\n",
       "      <td>404.096678</td>\n",
       "      <td>14.286578</td>\n",
       "      <td>404.096680</td>\n",
       "      <td>999</td>\n",
       "    </tr>\n",
       "  </tbody>\n",
       "</table>\n",
       "</div>"
      ],
      "text/plain": [
       "           loss  mean_absolute_error  mean_squared_error    val_loss  \\\n",
       "995  142.851208             8.276126          142.851212  535.026390   \n",
       "996  137.370528             8.263455          137.370529  355.322103   \n",
       "997  138.543515             8.231608          138.543518  360.606447   \n",
       "998  139.845135             8.373123          139.845139  348.109771   \n",
       "999  143.892349             8.501762          143.892349  404.096678   \n",
       "\n",
       "     val_mean_absolute_error  val_mean_squared_error  epoch  \n",
       "995                17.330921              535.026428    995  \n",
       "996                13.477231              355.322083    996  \n",
       "997                13.215087              360.606445    997  \n",
       "998                13.451520              348.109802    998  \n",
       "999                14.286578              404.096680    999  "
      ]
     },
     "execution_count": 71,
     "metadata": {},
     "output_type": "execute_result"
    }
   ],
   "source": [
    "hist = pd.DataFrame(history.history)\n",
    "hist['epoch'] = history.epoch\n",
    "hist.head()\n",
    "hist.tail()"
   ]
  },
  {
   "cell_type": "code",
   "execution_count": 72,
   "metadata": {},
   "outputs": [
    {
     "data": {
      "text/html": [
       "<div>\n",
       "<style scoped>\n",
       "    .dataframe tbody tr th:only-of-type {\n",
       "        vertical-align: middle;\n",
       "    }\n",
       "\n",
       "    .dataframe tbody tr th {\n",
       "        vertical-align: top;\n",
       "    }\n",
       "\n",
       "    .dataframe thead th {\n",
       "        text-align: right;\n",
       "    }\n",
       "</style>\n",
       "<table border=\"1\" class=\"dataframe\">\n",
       "  <thead>\n",
       "    <tr style=\"text-align: right;\">\n",
       "      <th></th>\n",
       "      <th>loss</th>\n",
       "      <th>mean_absolute_error</th>\n",
       "      <th>mean_squared_error</th>\n",
       "      <th>val_loss</th>\n",
       "      <th>val_mean_absolute_error</th>\n",
       "      <th>val_mean_squared_error</th>\n",
       "      <th>epoch</th>\n",
       "    </tr>\n",
       "  </thead>\n",
       "  <tbody>\n",
       "    <tr>\n",
       "      <th>0</th>\n",
       "      <td>5868.718314</td>\n",
       "      <td>53.938610</td>\n",
       "      <td>5868.718262</td>\n",
       "      <td>1651.646864</td>\n",
       "      <td>31.260431</td>\n",
       "      <td>1651.646729</td>\n",
       "      <td>0</td>\n",
       "    </tr>\n",
       "    <tr>\n",
       "      <th>1</th>\n",
       "      <td>2722.100135</td>\n",
       "      <td>41.787022</td>\n",
       "      <td>2722.099854</td>\n",
       "      <td>2465.168054</td>\n",
       "      <td>41.762913</td>\n",
       "      <td>2465.167969</td>\n",
       "      <td>1</td>\n",
       "    </tr>\n",
       "    <tr>\n",
       "      <th>2</th>\n",
       "      <td>2230.772190</td>\n",
       "      <td>37.058468</td>\n",
       "      <td>2230.772461</td>\n",
       "      <td>946.254814</td>\n",
       "      <td>23.124636</td>\n",
       "      <td>946.254883</td>\n",
       "      <td>2</td>\n",
       "    </tr>\n",
       "    <tr>\n",
       "      <th>3</th>\n",
       "      <td>2114.492332</td>\n",
       "      <td>36.960583</td>\n",
       "      <td>2114.492188</td>\n",
       "      <td>4625.357037</td>\n",
       "      <td>61.313339</td>\n",
       "      <td>4625.356934</td>\n",
       "      <td>3</td>\n",
       "    </tr>\n",
       "    <tr>\n",
       "      <th>4</th>\n",
       "      <td>1727.234934</td>\n",
       "      <td>32.255329</td>\n",
       "      <td>1727.234863</td>\n",
       "      <td>730.170911</td>\n",
       "      <td>19.913754</td>\n",
       "      <td>730.170898</td>\n",
       "      <td>4</td>\n",
       "    </tr>\n",
       "  </tbody>\n",
       "</table>\n",
       "</div>"
      ],
      "text/plain": [
       "          loss  mean_absolute_error  mean_squared_error     val_loss  \\\n",
       "0  5868.718314            53.938610         5868.718262  1651.646864   \n",
       "1  2722.100135            41.787022         2722.099854  2465.168054   \n",
       "2  2230.772190            37.058468         2230.772461   946.254814   \n",
       "3  2114.492332            36.960583         2114.492188  4625.357037   \n",
       "4  1727.234934            32.255329         1727.234863   730.170911   \n",
       "\n",
       "   val_mean_absolute_error  val_mean_squared_error  epoch  \n",
       "0                31.260431             1651.646729      0  \n",
       "1                41.762913             2465.167969      1  \n",
       "2                23.124636              946.254883      2  \n",
       "3                61.313339             4625.356934      3  \n",
       "4                19.913754              730.170898      4  "
      ]
     },
     "execution_count": 72,
     "metadata": {},
     "output_type": "execute_result"
    }
   ],
   "source": [
    "hist.head()"
   ]
  },
  {
   "cell_type": "code",
   "execution_count": 78,
   "metadata": {},
   "outputs": [
    {
     "data": {
      "image/png": "[encoded data removed]",
      "text/plain": [
       "<Figure size 432x288 with 1 Axes>"
      ]
     },
     "metadata": {
      "needs_background": "light"
     },
     "output_type": "display_data"
    },
    {
     "data": {
      "image/png": "[encoded data removed]",
      "text/plain": [
       "<Figure size 432x288 with 1 Axes>"
      ]
     },
     "metadata": {
      "needs_background": "light"
     },
     "output_type": "display_data"
    }
   ],
   "source": [
    "def plot_history(history):\n",
    "  hist = pd.DataFrame(history.history)\n",
    "  hist['epoch'] = history.epoch\n",
    "\n",
    "  plt.figure()\n",
    "  plt.xlabel('Epoch')\n",
    "  plt.ylabel('Mean Abs Error [PM2.5]')\n",
    "  plt.plot(hist['epoch'], hist['mean_absolute_error'],label='Train Error')\n",
    "  plt.plot(hist['epoch'], hist['val_mean_absolute_error'],label = 'Val Error')\n",
    "  plt.legend()\n",
    "\n",
    "  plt.figure()\n",
    "  plt.xlabel('Epoch')\n",
    "  plt.ylabel('Mean Square Error [$PM2.5^2$]')\n",
    "  plt.plot(hist['epoch'], hist['loss'],label='Train Error')\n",
    "  plt.plot(hist['epoch'], hist['val_loss'], label = 'Val Error')\n",
    "  plt.legend()\n",
    "  plt.show()\n",
    "\n",
    "\n",
    "plot_history(history)"
   ]
  },
  {
   "cell_type": "code",
   "execution_count": 84,
   "metadata": {},
   "outputs": [
    {
     "name": "stdout",
     "output_type": "stream",
     "text": [
      "\n",
      "...................................."
     ]
    },
    {
     "data": {
      "image/png": "[encoded data removed]",
      "text/plain": [
       "<Figure size 432x288 with 1 Axes>"
      ]
     },
     "metadata": {
      "needs_background": "light"
     },
     "output_type": "display_data"
    },
    {
     "data": {
      "image/png": "[encoded data removed]",
      "text/plain": [
       "<Figure size 432x288 with 1 Axes>"
      ]
     },
     "metadata": {
      "needs_background": "light"
     },
     "output_type": "display_data"
    }
   ],
   "source": [
    "model = build_model()\n",
    "\n",
    "# The patience parameter is the amount of epochs to check for improvement\n",
    "early_stop = k.callbacks.EarlyStopping(monitor='val_loss', patience=10)\n",
    "\n",
    "history = model.fit(X_train, y_train, epochs=EPOCHS,\n",
    "                    validation_split = 0.2, verbose=0, callbacks=[early_stop, PrintDot()])\n",
    "\n",
    "plot_history(history)"
   ]
  },
  {
   "cell_type": "code",
   "execution_count": 85,
   "metadata": {},
   "outputs": [
    {
     "name": "stdout",
     "output_type": "stream",
     "text": [
      "331/331 [==============================] - 0s 45us/sample - loss: 782.3452 - mean_absolute_error: 23.0933 - mean_squared_error: 782.3453 - acc: 0.0000e+00\n"
     ]
    },
    {
     "data": {
      "text/plain": [
       "[782.345249879036, 23.093285, 782.3453, 0.0]"
      ]
     },
     "execution_count": 85,
     "metadata": {},
     "output_type": "execute_result"
    }
   ],
   "source": [
    "model.evaluate(X_test, y_test)"
   ]
  },
  {
   "cell_type": "code",
   "execution_count": null,
   "metadata": {},
   "outputs": [],
   "source": []
  }
 ],
 "metadata": {
  "kernelspec": {
   "display_name": "Python 3",
   "language": "python",
   "name": "python3"
  },
  "language_info": {
   "codemirror_mode": {
    "name": "ipython",
    "version": 3
   },
   "file_extension": ".py",
   "mimetype": "text/x-python",
   "name": "python",
   "nbconvert_exporter": "python",
   "pygments_lexer": "ipython3",
   "version": "3.7.1"
  }
 },
 "nbformat": 4,
 "nbformat_minor": 2
}
